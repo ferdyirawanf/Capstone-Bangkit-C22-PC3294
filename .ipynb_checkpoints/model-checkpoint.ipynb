{
 "cells": [
  {
   "cell_type": "code",
   "execution_count": 1,
   "metadata": {},
   "outputs": [],
   "source": [
    "import os\n",
    "import shutil\n",
    "from shutil import copyfile\n",
    "from PIL import Image\n",
    "import random\n",
    "\n",
    "def generate_directory(base_dir, sub_dir):\n",
    "    return os.path.join(base_dir, sub_dir)\n",
    "\n",
    "def make_directory(name_dir):\n",
    "    if os.path.exists(name_dir):\n",
    "        shutil.rmtree(name_dir)\n",
    "    os.mkdir(name_dir)\n",
    "    return name_dir\n",
    "\n",
    "def split_dataset(split_size, source_dir, train_dir, val_dir):\n",
    "    data = os.listdir(source_dir)\n",
    "    random_data = random.sample(data, len(data))\n",
    "    for i, filename in enumerate(random_data):\n",
    "        filepath = os.path.join(source_dir, filename)\n",
    "        if os.path.getsize(filepath) > 0:\n",
    "            if i < len(data) * split_size:\n",
    "                copyfile(filepath, generate_directory(train_dir, filename))\n",
    "            else:\n",
    "                copyfile(filepath, generate_directory(val_dir, filename))\n",
    "\n",
    "# New directory for split dataset \n",
    "base_dir = make_directory('dataset/split_dataset')\n",
    "train_dir = make_directory(generate_directory(base_dir, 'train'))\n",
    "test_dir = make_directory(generate_directory(base_dir, 'test'))\n",
    "val_dir = make_directory(generate_directory(base_dir, 'validation'))\n",
    "\n",
    "fresh_train_dir = make_directory(generate_directory(train_dir, 'fresh'))\n",
    "fresh_test_dir = make_directory(generate_directory(test_dir, 'fresh'))\n",
    "fresh_val_dir = make_directory(generate_directory(val_dir, 'fresh'))\n",
    "\n",
    "rotten_train_dir = make_directory(generate_directory(train_dir, 'rotten'))\n",
    "rotten_test_dir = make_directory(generate_directory(test_dir, 'rotten'))\n",
    "rotten_val_dir = make_directory(generate_directory(val_dir, 'rotten'))\n",
    "\n",
    "# Split data\n",
    "split_dataset(0.8, generate_directory('dataset/train/', 'freshapples'), fresh_train_dir, fresh_val_dir)\n",
    "split_dataset(0.8, generate_directory('dataset/train/', 'freshbanana'), fresh_train_dir, fresh_val_dir)\n",
    "split_dataset(0.8, generate_directory('dataset/train/', 'freshoranges'), fresh_train_dir, fresh_val_dir)\n",
    "split_dataset(0.8, generate_directory('dataset/train/', 'rottenapples'), rotten_train_dir, rotten_val_dir)\n",
    "split_dataset(0.8, generate_directory('dataset/train/', 'rottenbanana'), rotten_train_dir, rotten_val_dir)\n",
    "split_dataset(0.8, generate_directory('dataset/train/', 'rottenoranges'), rotten_train_dir, rotten_val_dir)\n",
    "\n",
    "split_dataset(1.0, generate_directory('dataset/test/', 'freshapples'), fresh_test_dir, fresh_val_dir)\n",
    "split_dataset(1.0, generate_directory('dataset/test/', 'freshbanana'), fresh_test_dir, fresh_val_dir)\n",
    "split_dataset(1.0, generate_directory('dataset/test/', 'freshoranges'), fresh_test_dir, fresh_val_dir)\n",
    "split_dataset(1.0, generate_directory('dataset/test/', 'rottenapples'), rotten_test_dir, rotten_val_dir)\n",
    "split_dataset(1.0, generate_directory('dataset/test/', 'rottenbanana'), rotten_test_dir, rotten_val_dir)\n",
    "split_dataset(1.0, generate_directory('dataset/test/', 'rottenoranges'), rotten_test_dir, rotten_val_dir)"
   ]
  },
  {
   "cell_type": "code",
   "execution_count": 18,
   "metadata": {},
   "outputs": [],
   "source": [
    "import tensorflow as tf\n",
    "from tensorflow import keras\n",
    "from tensorflow.keras.preprocessing import image\n",
    "from tensorflow.keras.preprocessing.image import ImageDataGenerator\n",
    "\n",
    "from tensorflow.keras.layers import Dense,Dropout, Conv2D,MaxPooling2D , Activation, Flatten, BatchNormalization, SeparableConv2D\n",
    "from tensorflow.keras.models import Sequential\n",
    "\n",
    "train_datagen = ImageDataGenerator(\n",
    "    rescale=1./255,\n",
    "    width_shift_range=0.2,\n",
    "    height_shift_range=0.2,\n",
    "    shear_range=0.2,\n",
    "    zoom_range=[0.5, 1.0],\n",
    "    rotation_range=90,\n",
    "    horizontal_flip=True,\n",
    "    vertical_flip=True,\n",
    "    fill_mode='reflect'\n",
    ")\n",
    "\n",
    "validation_datagen = ImageDataGenerator(\n",
    "    rescale=1./255\n",
    ")"
   ]
  },
  {
   "cell_type": "code",
   "execution_count": 174,
   "metadata": {},
   "outputs": [
    {
     "name": "stdout",
     "output_type": "stream",
     "text": [
      "Found 8723 images belonging to 2 classes.\n",
      "Found 2178 images belonging to 2 classes.\n"
     ]
    }
   ],
   "source": [
    "train_generator = train_datagen.flow_from_directory(train_dir,\n",
    "                                                    batch_size=20,\n",
    "                                                    color_mode=\"rgb\",\n",
    "                                                    target_size=(100,100),\n",
    "                                                    class_mode='binary')\n",
    "\n",
    "validation_generator = train_datagen.flow_from_directory(val_dir,\n",
    "                                                         batch_size=20,\n",
    "                                                         color_mode=\"rgb\",\n",
    "                                                         target_size=(100,100),\n",
    "                                                         class_mode='binary')"
   ]
  },
  {
   "cell_type": "code",
   "execution_count": 183,
   "metadata": {},
   "outputs": [],
   "source": [
    "model = tf.keras.models.Sequential([\n",
    "    tf.keras.layers.Conv2D(32, (3,3), kernel_initializer='he_uniform', activation='relu', input_shape=(100, 100, 3)),\n",
    "    tf.keras.layers.BatchNormalization(),\n",
    "    tf.keras.layers.MaxPooling2D(2,2),\n",
    "    tf.keras.layers.BatchNormalization(),\n",
    "    tf.keras.layers.Dropout(0.3),\n",
    "    \n",
    "    tf.keras.layers.Conv2D(64, (3, 3), kernel_initializer='he_uniform', activation='relu'),\n",
    "    tf.keras.layers.BatchNormalization(),\n",
    "    tf.keras.layers.MaxPooling2D(2,2),\n",
    "    tf.keras.layers.Dropout(0.4),\n",
    "    \n",
    "    tf.keras.layers.Conv2D(128, (3, 3), kernel_initializer='he_uniform', activation='relu'),\n",
    "    tf.keras.layers.BatchNormalization(),\n",
    "    tf.keras.layers.MaxPooling2D(2,2),\n",
    "    tf.keras.layers.Dropout(0.5),\n",
    "    \n",
    "    tf.keras.layers.Flatten(),\n",
    "    \n",
    "    tf.keras.layers.Dense(128, kernel_initializer='he_uniform', activation='relu'),\n",
    "    tf.keras.layers.Dropout(0.3),\n",
    "    \n",
    "    tf.keras.layers.Dense(1, activation='sigmoid')\n",
    "])"
   ]
  },
  {
   "cell_type": "code",
   "execution_count": 184,
   "metadata": {},
   "outputs": [
    {
     "name": "stdout",
     "output_type": "stream",
     "text": [
      "Model: \"sequential_31\"\n",
      "_________________________________________________________________\n",
      "Layer (type)                 Output Shape              Param #   \n",
      "=================================================================\n",
      "conv2d_86 (Conv2D)           (None, 98, 98, 32)        896       \n",
      "_________________________________________________________________\n",
      "batch_normalization_124 (Bat (None, 98, 98, 32)        128       \n",
      "_________________________________________________________________\n",
      "max_pooling2d_96 (MaxPooling (None, 49, 49, 32)        0         \n",
      "_________________________________________________________________\n",
      "batch_normalization_125 (Bat (None, 49, 49, 32)        128       \n",
      "_________________________________________________________________\n",
      "dropout_127 (Dropout)        (None, 49, 49, 32)        0         \n",
      "_________________________________________________________________\n",
      "conv2d_87 (Conv2D)           (None, 47, 47, 64)        18496     \n",
      "_________________________________________________________________\n",
      "batch_normalization_126 (Bat (None, 47, 47, 64)        256       \n",
      "_________________________________________________________________\n",
      "max_pooling2d_97 (MaxPooling (None, 23, 23, 64)        0         \n",
      "_________________________________________________________________\n",
      "dropout_128 (Dropout)        (None, 23, 23, 64)        0         \n",
      "_________________________________________________________________\n",
      "conv2d_88 (Conv2D)           (None, 21, 21, 128)       73856     \n",
      "_________________________________________________________________\n",
      "batch_normalization_127 (Bat (None, 21, 21, 128)       512       \n",
      "_________________________________________________________________\n",
      "max_pooling2d_98 (MaxPooling (None, 10, 10, 128)       0         \n",
      "_________________________________________________________________\n",
      "dropout_129 (Dropout)        (None, 10, 10, 128)       0         \n",
      "_________________________________________________________________\n",
      "flatten_32 (Flatten)         (None, 12800)             0         \n",
      "_________________________________________________________________\n",
      "dense_62 (Dense)             (None, 128)               1638528   \n",
      "_________________________________________________________________\n",
      "dropout_130 (Dropout)        (None, 128)               0         \n",
      "_________________________________________________________________\n",
      "dense_63 (Dense)             (None, 1)                 129       \n",
      "=================================================================\n",
      "Total params: 1,732,929\n",
      "Trainable params: 1,732,417\n",
      "Non-trainable params: 512\n",
      "_________________________________________________________________\n"
     ]
    }
   ],
   "source": [
    "model.summary()"
   ]
  },
  {
   "cell_type": "code",
   "execution_count": 185,
   "metadata": {},
   "outputs": [],
   "source": [
    "class myCallback(tf.keras.callbacks.Callback):\n",
    "    def on_epoch_end(self, epoch, logs={}):\n",
    "        if(logs.get('accuracy') >= 98):\n",
    "            print(\"\\nReached 98% accuracy. Stop Training\")\n",
    "            self.model.stop_training = True\n",
    "\n",
    "callbacks = myCallback()\n",
    "\n",
    "model.compile(loss=keras.losses.binary_crossentropy, optimizer = keras.optimizers.Adam(lr = 0.001), metrics=['accuracy'])"
   ]
  },
  {
   "cell_type": "code",
   "execution_count": 187,
   "metadata": {},
   "outputs": [
    {
     "name": "stdout",
     "output_type": "stream",
     "text": [
      "Epoch 1/15\n",
      "437/437 [==============================] - 167s 381ms/step - loss: 0.2964 - accuracy: 0.8812 - val_loss: 0.4203 - val_accuracy: 0.8696\n",
      "Epoch 2/15\n",
      "437/437 [==============================] - 171s 390ms/step - loss: 0.2723 - accuracy: 0.8951 - val_loss: 0.7544 - val_accuracy: 0.8044\n",
      "Epoch 3/15\n",
      "437/437 [==============================] - 173s 396ms/step - loss: 0.2802 - accuracy: 0.8924 - val_loss: 0.4396 - val_accuracy: 0.8678\n",
      "Epoch 4/15\n",
      "437/437 [==============================] - 170s 388ms/step - loss: 0.2516 - accuracy: 0.9023 - val_loss: 0.5535 - val_accuracy: 0.7847\n",
      "Epoch 5/15\n",
      "437/437 [==============================] - 172s 394ms/step - loss: 0.2399 - accuracy: 0.9093 - val_loss: 0.4829 - val_accuracy: 0.8072\n",
      "Epoch 6/15\n",
      "437/437 [==============================] - 189s 432ms/step - loss: 0.2148 - accuracy: 0.9148 - val_loss: 0.3319 - val_accuracy: 0.8861\n",
      "Epoch 7/15\n",
      "437/437 [==============================] - 179s 409ms/step - loss: 0.2160 - accuracy: 0.9164 - val_loss: 0.5908 - val_accuracy: 0.7585\n",
      "Epoch 8/15\n",
      "437/437 [==============================] - 286s 655ms/step - loss: 0.2245 - accuracy: 0.9172 - val_loss: 0.6536 - val_accuracy: 0.8030\n",
      "Epoch 9/15\n",
      "437/437 [==============================] - 332s 760ms/step - loss: 0.2005 - accuracy: 0.9226 - val_loss: 0.2762 - val_accuracy: 0.8926\n",
      "Epoch 10/15\n",
      "437/437 [==============================] - 617s 1s/step - loss: 0.2053 - accuracy: 0.9212 - val_loss: 1.9276 - val_accuracy: 0.7287\n",
      "Epoch 11/15\n",
      "437/437 [==============================] - 337s 771ms/step - loss: 0.1954 - accuracy: 0.9284 - val_loss: 0.5455 - val_accuracy: 0.8049\n",
      "Epoch 12/15\n",
      "437/437 [==============================] - 337s 771ms/step - loss: 0.1894 - accuracy: 0.9295 - val_loss: 0.1555 - val_accuracy: 0.9385\n",
      "Epoch 13/15\n",
      "437/437 [==============================] - 327s 748ms/step - loss: 0.1799 - accuracy: 0.9333 - val_loss: 0.1495 - val_accuracy: 0.9417\n",
      "Epoch 14/15\n",
      "437/437 [==============================] - 326s 747ms/step - loss: 0.1774 - accuracy: 0.9335 - val_loss: 0.6698 - val_accuracy: 0.8572\n",
      "Epoch 15/15\n",
      "437/437 [==============================] - 325s 744ms/step - loss: 0.1756 - accuracy: 0.9341 - val_loss: 1.3334 - val_accuracy: 0.7681\n"
     ]
    }
   ],
   "source": [
    "history = model.fit(\n",
    "    train_generator,\n",
    "    validation_data=validation_generator,\n",
    "    batch_size=20,\n",
    "    epochs=15,\n",
    "    verbose=1,\n",
    "    callbacks=[callbacks]\n",
    ")"
   ]
  },
  {
   "cell_type": "code",
   "execution_count": 188,
   "metadata": {},
   "outputs": [
    {
     "name": "stdout",
     "output_type": "stream",
     "text": [
      "Found 2698 images belonging to 2 classes.\n",
      "2698/2698 [==============================] - 53s 19ms/step - loss: 0.7655 - accuracy: 0.8325\n",
      "accuracy test:  0.8324685096740723\n"
     ]
    }
   ],
   "source": [
    "test_datagen = ImageDataGenerator(rescale=1./255)\n",
    "\n",
    "test_generator = test_datagen.flow_from_directory(test_dir,\n",
    "                                                  batch_size=1,\n",
    "                                                  target_size=(100, 100),\n",
    "                                                  shuffle = False,\n",
    "                                                  class_mode='binary')\n",
    "\n",
    "filenames = test_generator.filenames\n",
    "nb_samples = len(filenames)\n",
    "\n",
    "loss, acc = model.evaluate(test_generator,steps = (nb_samples), verbose=1)\n",
    "print('accuracy test: ', acc)"
   ]
  },
  {
   "cell_type": "code",
   "execution_count": 190,
   "metadata": {},
   "outputs": [
    {
     "data": {
      "text/plain": [
       "<Figure size 432x288 with 0 Axes>"
      ]
     },
     "execution_count": 190,
     "metadata": {},
     "output_type": "execute_result"
    },
    {
     "data": {
      "image/png": "[encoded data removed]",
      "text/plain": [
       "<Figure size 432x288 with 1 Axes>"
      ]
     },
     "metadata": {
      "needs_background": "light"
     },
     "output_type": "display_data"
    },
    {
     "data": {
      "image/png": "[encoded data removed]",
      "text/plain": [
       "<Figure size 432x288 with 1 Axes>"
      ]
     },
     "metadata": {
      "needs_background": "light"
     },
     "output_type": "display_data"
    },
    {
     "data": {
      "text/plain": [
       "<Figure size 432x288 with 0 Axes>"
      ]
     },
     "metadata": {},
     "output_type": "display_data"
    }
   ],
   "source": [
    "%matplotlib inline\n",
    "import matplotlib.image as mpimg\n",
    "import matplotlib.pyplot as plt\n",
    "\n",
    "acc = history.history['accuracy']\n",
    "val_acc = history.history['val_accuracy']\n",
    "loss = history.history['loss']\n",
    "val_loss = history.history['val_loss']\n",
    "\n",
    "epochs = range(len(acc))\n",
    "\n",
    "plt.plot(epochs, acc, 'r')\n",
    "plt.plot(epochs, val_acc, 'b')\n",
    "plt.title('Training and Validation Accuracy')\n",
    "plt.ylabel('accuracy')\n",
    "plt.xlabel('epoch')\n",
    "plt.legend(['train', 'val'], loc='upper left')\n",
    "plt.figure()\n",
    "\n",
    "plt.plot(epochs, loss, 'r')\n",
    "plt.plot(epochs, val_loss, 'b')\n",
    "plt.ylabel('loss')\n",
    "plt.xlabel('epoch')\n",
    "plt.legend(['train', 'val'], loc='upper left')\n",
    "plt.title('Training and Validaion Loss')\n",
    "plt.figure()"
   ]
  },
  {
   "cell_type": "code",
   "execution_count": null,
   "metadata": {},
   "outputs": [],
   "source": [
    "model.save('model.h5')"
   ]
  }
 ],
 "metadata": {
  "kernelspec": {
   "display_name": "Python 3",
   "language": "python",
   "name": "python3"
  },
  "language_info": {
   "codemirror_mode": {
    "name": "ipython",
    "version": 3
   },
   "file_extension": ".py",
   "mimetype": "text/x-python",
   "name": "python",
   "nbconvert_exporter": "python",
   "pygments_lexer": "ipython3",
   "version": "3.8.5"
  }
 },
 "nbformat": 4,
 "nbformat_minor": 4
}
